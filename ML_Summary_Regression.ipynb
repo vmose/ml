{
 "cells": [
  {
   "cell_type": "code",
   "execution_count": 1,
   "id": "672be150-89c9-44aa-b25d-8cab9fe8cb4a",
   "metadata": {},
   "outputs": [],
   "source": [
    "#ML\n",
    "import numpy as np\n",
    "import pandas as pd\n",
    "import matplotlib.pyplot as plt\n",
    "from sklearn import linear_model"
   ]
  },
  {
   "cell_type": "code",
   "execution_count": 16,
   "id": "01d95a74-c037-4656-bd9a-ca0905924c27",
   "metadata": {},
   "outputs": [],
   "source": [
    "data1= pd.read_csv(r'C:\\Input\\FuelConsumptionCo2.csv')"
   ]
  },
  {
   "cell_type": "code",
   "execution_count": 3,
   "id": "361470cf-d483-454b-9dd9-623f7b692b05",
   "metadata": {},
   "outputs": [
    {
     "data": {
      "text/html": [
       "<div>\n",
       "<style scoped>\n",
       "    .dataframe tbody tr th:only-of-type {\n",
       "        vertical-align: middle;\n",
       "    }\n",
       "\n",
       "    .dataframe tbody tr th {\n",
       "        vertical-align: top;\n",
       "    }\n",
       "\n",
       "    .dataframe thead th {\n",
       "        text-align: right;\n",
       "    }\n",
       "</style>\n",
       "<table border=\"1\" class=\"dataframe\">\n",
       "  <thead>\n",
       "    <tr style=\"text-align: right;\">\n",
       "      <th></th>\n",
       "      <th>MODELYEAR</th>\n",
       "      <th>MAKE</th>\n",
       "      <th>MODEL</th>\n",
       "      <th>VEHICLECLASS</th>\n",
       "      <th>ENGINESIZE</th>\n",
       "      <th>CYLINDERS</th>\n",
       "      <th>TRANSMISSION</th>\n",
       "      <th>FUELTYPE</th>\n",
       "      <th>FUELCONSUMPTION_CITY</th>\n",
       "      <th>FUELCONSUMPTION_HWY</th>\n",
       "      <th>FUELCONSUMPTION_COMB</th>\n",
       "      <th>FUELCONSUMPTION_COMB_MPG</th>\n",
       "      <th>CO2EMISSIONS</th>\n",
       "    </tr>\n",
       "  </thead>\n",
       "  <tbody>\n",
       "    <tr>\n",
       "      <th>0</th>\n",
       "      <td>2014</td>\n",
       "      <td>ACURA</td>\n",
       "      <td>ILX</td>\n",
       "      <td>COMPACT</td>\n",
       "      <td>2.0</td>\n",
       "      <td>4</td>\n",
       "      <td>AS5</td>\n",
       "      <td>Z</td>\n",
       "      <td>9.9</td>\n",
       "      <td>6.7</td>\n",
       "      <td>8.5</td>\n",
       "      <td>33</td>\n",
       "      <td>196</td>\n",
       "    </tr>\n",
       "    <tr>\n",
       "      <th>1</th>\n",
       "      <td>2014</td>\n",
       "      <td>ACURA</td>\n",
       "      <td>ILX</td>\n",
       "      <td>COMPACT</td>\n",
       "      <td>2.4</td>\n",
       "      <td>4</td>\n",
       "      <td>M6</td>\n",
       "      <td>Z</td>\n",
       "      <td>11.2</td>\n",
       "      <td>7.7</td>\n",
       "      <td>9.6</td>\n",
       "      <td>29</td>\n",
       "      <td>221</td>\n",
       "    </tr>\n",
       "    <tr>\n",
       "      <th>2</th>\n",
       "      <td>2014</td>\n",
       "      <td>ACURA</td>\n",
       "      <td>ILX HYBRID</td>\n",
       "      <td>COMPACT</td>\n",
       "      <td>1.5</td>\n",
       "      <td>4</td>\n",
       "      <td>AV7</td>\n",
       "      <td>Z</td>\n",
       "      <td>6.0</td>\n",
       "      <td>5.8</td>\n",
       "      <td>5.9</td>\n",
       "      <td>48</td>\n",
       "      <td>136</td>\n",
       "    </tr>\n",
       "    <tr>\n",
       "      <th>3</th>\n",
       "      <td>2014</td>\n",
       "      <td>ACURA</td>\n",
       "      <td>MDX 4WD</td>\n",
       "      <td>SUV - SMALL</td>\n",
       "      <td>3.5</td>\n",
       "      <td>6</td>\n",
       "      <td>AS6</td>\n",
       "      <td>Z</td>\n",
       "      <td>12.7</td>\n",
       "      <td>9.1</td>\n",
       "      <td>11.1</td>\n",
       "      <td>25</td>\n",
       "      <td>255</td>\n",
       "    </tr>\n",
       "    <tr>\n",
       "      <th>4</th>\n",
       "      <td>2014</td>\n",
       "      <td>ACURA</td>\n",
       "      <td>RDX AWD</td>\n",
       "      <td>SUV - SMALL</td>\n",
       "      <td>3.5</td>\n",
       "      <td>6</td>\n",
       "      <td>AS6</td>\n",
       "      <td>Z</td>\n",
       "      <td>12.1</td>\n",
       "      <td>8.7</td>\n",
       "      <td>10.6</td>\n",
       "      <td>27</td>\n",
       "      <td>244</td>\n",
       "    </tr>\n",
       "  </tbody>\n",
       "</table>\n",
       "</div>"
      ],
      "text/plain": [
       "   MODELYEAR   MAKE       MODEL VEHICLECLASS  ENGINESIZE  CYLINDERS  \\\n",
       "0       2014  ACURA         ILX      COMPACT         2.0          4   \n",
       "1       2014  ACURA         ILX      COMPACT         2.4          4   \n",
       "2       2014  ACURA  ILX HYBRID      COMPACT         1.5          4   \n",
       "3       2014  ACURA     MDX 4WD  SUV - SMALL         3.5          6   \n",
       "4       2014  ACURA     RDX AWD  SUV - SMALL         3.5          6   \n",
       "\n",
       "  TRANSMISSION FUELTYPE  FUELCONSUMPTION_CITY  FUELCONSUMPTION_HWY  \\\n",
       "0          AS5        Z                   9.9                  6.7   \n",
       "1           M6        Z                  11.2                  7.7   \n",
       "2          AV7        Z                   6.0                  5.8   \n",
       "3          AS6        Z                  12.7                  9.1   \n",
       "4          AS6        Z                  12.1                  8.7   \n",
       "\n",
       "   FUELCONSUMPTION_COMB  FUELCONSUMPTION_COMB_MPG  CO2EMISSIONS  \n",
       "0                   8.5                        33           196  \n",
       "1                   9.6                        29           221  \n",
       "2                   5.9                        48           136  \n",
       "3                  11.1                        25           255  \n",
       "4                  10.6                        27           244  "
      ]
     },
     "execution_count": 3,
     "metadata": {},
     "output_type": "execute_result"
    }
   ],
   "source": [
    "data1.head()"
   ]
  },
  {
   "cell_type": "code",
   "execution_count": 45,
   "id": "0732d74b-75f5-4855-b54f-aa6dbbdb5a69",
   "metadata": {},
   "outputs": [],
   "source": [
    "#Simple regression"
   ]
  },
  {
   "cell_type": "code",
   "execution_count": 5,
   "id": "f7cd359a",
   "metadata": {},
   "outputs": [],
   "source": [
    "data1=data1[[\"ENGINESIZE\",\"CO2EMISSIONS\"]]"
   ]
  },
  {
   "cell_type": "code",
   "execution_count": 6,
   "id": "2856bba8-9ca9-4fcb-bc46-6525c05c9c6e",
   "metadata": {},
   "outputs": [
    {
     "data": {
      "image/png": "[encoded data removed]",
      "text/plain": [
       "<Figure size 432x288 with 1 Axes>"
      ]
     },
     "metadata": {
      "needs_background": "light"
     },
     "output_type": "display_data"
    }
   ],
   "source": [
    "plt.scatter(data1[\"ENGINESIZE\"],data1[\"CO2EMISSIONS\"],color='g')\n",
    "plt.xlabel(\"CO2EMISSIONS\")\n",
    "plt.ylabel(\"ENGINESIZE\")\n",
    "plt.show()"
   ]
  },
  {
   "cell_type": "code",
   "execution_count": 7,
   "id": "86f2d297-e3fe-4455-9117-a6ad6089bd9f",
   "metadata": {},
   "outputs": [],
   "source": [
    "#generating training and testing data. \n",
    "#using 80% data for training\n",
    "\n",
    "train = data1[:(int((len(data1)*0.8)))]\n",
    "test = data1[(int((len(data1)*0.8))):]"
   ]
  },
  {
   "cell_type": "code",
   "execution_count": 8,
   "id": "34514a05",
   "metadata": {},
   "outputs": [
    {
     "name": "stdout",
     "output_type": "stream",
     "text": [
      "coefficients : [[38.79512384]]\n",
      "Intercept :  [127.16989951]\n"
     ]
    }
   ],
   "source": [
    "# Modeling:\n",
    "# Using sklearn package to model data :\n",
    "regr = linear_model.LinearRegression()\n",
    "train_x = np.array(train[['ENGINESIZE']])\n",
    "train_y = np.array(train[['CO2EMISSIONS']])\n",
    "regr.fit(train_x,train_y)\n",
    "\n",
    "# The coefficients:\n",
    "print ('coefficients :' ,regr.coef_) #Slope\n",
    "print ('Intercept : ',regr.intercept_) #Intercept"
   ]
  },
  {
   "cell_type": "code",
   "execution_count": 9,
   "id": "d8a126f7",
   "metadata": {},
   "outputs": [
    {
     "data": {
      "text/plain": [
       "Text(0, 0.5, 'Emission')"
      ]
     },
     "execution_count": 9,
     "metadata": {},
     "output_type": "execute_result"
    },
    {
     "data": {
      "image/png": "[encoded data removed]",
      "text/plain": [
       "<Figure size 432x288 with 1 Axes>"
      ]
     },
     "metadata": {
      "needs_background": "light"
     },
     "output_type": "display_data"
    }
   ],
   "source": [
    "# Plotting the regression line:\n",
    "plt.scatter(train['ENGINESIZE'], train['CO2EMISSIONS'], color='g')\n",
    "plt.plot(train_x, regr.coef_*train_x + regr.intercept_, '-r')\n",
    "plt.xlabel('Engine size')\n",
    "plt.ylabel('Emission')"
   ]
  },
  {
   "cell_type": "code",
   "execution_count": 10,
   "id": "6e4f369b",
   "metadata": {},
   "outputs": [],
   "source": [
    "# Predicting values:\n",
    "# Function for predicting future values :\n",
    "def get_regression_predictions(input_features,intercept,slope):\n",
    "    predicted_values = input_features*slope + intercept\n",
    "    return predicted_values"
   ]
  },
  {
   "cell_type": "code",
   "execution_count": 11,
   "id": "b3a0c295",
   "metadata": {},
   "outputs": [
    {
     "name": "stdout",
     "output_type": "stream",
     "text": [
      "Estimated Emission : 262.9528329350172\n"
     ]
    }
   ],
   "source": [
    "# Predicting emission for future car:\n",
    "my_engine_size = 3.5\n",
    "estimatd_emission = get_regression_predictions(my_engine_size,regr.intercept_[0],regr.coef_[0][0])\n",
    "print ('Estimated Emission :',estimatd_emission)\n"
   ]
  },
  {
   "cell_type": "code",
   "execution_count": 12,
   "id": "ca79cc24",
   "metadata": {},
   "outputs": [
    {
     "name": "stdout",
     "output_type": "stream",
     "text": [
      "Mean absolute error: 20.60\n",
      "Mean sum of squares (MSE): 746.45\n",
      "R2-score: 0.71\n"
     ]
    }
   ],
   "source": [
    "# Checking various accuracy:\n",
    "from sklearn.metrics import r2_score\n",
    "test_x = np.array(test[['ENGINESIZE']])\n",
    "test_y = np.array(test[['CO2EMISSIONS']])\n",
    "test_y_ = regr.predict(test_x)\n",
    "\n",
    "print(\"Mean absolute error: %.2f\" % np.mean(np.absolute(test_y_ - test_y)))\n",
    "print(\"Mean sum of squares (MSE): %.2f\" % np.mean((test_y_ - test_y) ** 2))\n",
    "print(\"R2-score: %.2f\" % r2_score(test_y_ , test_y) )"
   ]
  },
  {
   "cell_type": "code",
   "execution_count": 46,
   "id": "5f126373",
   "metadata": {},
   "outputs": [],
   "source": [
    "#Multiple regression"
   ]
  },
  {
   "cell_type": "code",
   "execution_count": 17,
   "id": "be41b5c9",
   "metadata": {},
   "outputs": [],
   "source": [
    "# Consider features we want to work on:\n",
    "X = data1[[ 'ENGINESIZE', 'CYLINDERS', 'FUELCONSUMPTION_CITY','FUELCONSUMPTION_HWY', \n",
    " 'FUELCONSUMPTION_COMB','FUELCONSUMPTION_COMB_MPG']]\n",
    "Y = data1['CO2EMISSIONS']"
   ]
  },
  {
   "cell_type": "code",
   "execution_count": 18,
   "id": "6262119e",
   "metadata": {},
   "outputs": [],
   "source": [
    "# Generating training and testing data from our data:\n",
    "# We are using 80% data for training.\n",
    "train = data1[:(int((len(data1)*0.8)))]\n",
    "test = data1[(int((len(data1)*0.8))):]"
   ]
  },
  {
   "cell_type": "code",
   "execution_count": 19,
   "id": "59acfde5",
   "metadata": {},
   "outputs": [
    {
     "data": {
      "text/plain": [
       "LinearRegression()"
      ]
     },
     "execution_count": 19,
     "metadata": {},
     "output_type": "execute_result"
    }
   ],
   "source": [
    "#Modeling:\n",
    "#Using sklearn package to model data:\n",
    "\n",
    "from sklearn import linear_model\n",
    "regr = linear_model.LinearRegression()\n",
    "train_x = np.array(train[[ 'ENGINESIZE', 'CYLINDERS', 'FUELCONSUMPTION_CITY',\n",
    " 'FUELCONSUMPTION_HWY', 'FUELCONSUMPTION_COMB','FUELCONSUMPTION_COMB_MPG']])\n",
    "\n",
    "train_y = np.array(train['CO2EMISSIONS'])\n",
    "\n",
    "test_x = np.array(test[[ 'ENGINESIZE', 'CYLINDERS', 'FUELCONSUMPTION_CITY',\n",
    " 'FUELCONSUMPTION_HWY', 'FUELCONSUMPTION_COMB','FUELCONSUMPTION_COMB_MPG']])\n",
    "\n",
    "test_y = np.array(test['CO2EMISSIONS'])\n",
    "\n",
    "regr.fit(train_x,train_y)"
   ]
  },
  {
   "cell_type": "code",
   "execution_count": 20,
   "id": "fe66dc87",
   "metadata": {},
   "outputs": [
    {
     "data": {
      "text/html": [
       "<div>\n",
       "<style scoped>\n",
       "    .dataframe tbody tr th:only-of-type {\n",
       "        vertical-align: middle;\n",
       "    }\n",
       "\n",
       "    .dataframe tbody tr th {\n",
       "        vertical-align: top;\n",
       "    }\n",
       "\n",
       "    .dataframe thead th {\n",
       "        text-align: right;\n",
       "    }\n",
       "</style>\n",
       "<table border=\"1\" class=\"dataframe\">\n",
       "  <thead>\n",
       "    <tr style=\"text-align: right;\">\n",
       "      <th></th>\n",
       "      <th>Coefficients</th>\n",
       "    </tr>\n",
       "  </thead>\n",
       "  <tbody>\n",
       "    <tr>\n",
       "      <th>ENGINESIZE</th>\n",
       "      <td>7.873147</td>\n",
       "    </tr>\n",
       "    <tr>\n",
       "      <th>CYLINDERS</th>\n",
       "      <td>8.408908</td>\n",
       "    </tr>\n",
       "    <tr>\n",
       "      <th>FUELCONSUMPTION_CITY</th>\n",
       "      <td>-3.368325</td>\n",
       "    </tr>\n",
       "    <tr>\n",
       "      <th>FUELCONSUMPTION_HWY</th>\n",
       "      <td>2.742498</td>\n",
       "    </tr>\n",
       "    <tr>\n",
       "      <th>FUELCONSUMPTION_COMB</th>\n",
       "      <td>3.851251</td>\n",
       "    </tr>\n",
       "    <tr>\n",
       "      <th>FUELCONSUMPTION_COMB_MPG</th>\n",
       "      <td>-4.082913</td>\n",
       "    </tr>\n",
       "  </tbody>\n",
       "</table>\n",
       "</div>"
      ],
      "text/plain": [
       "                          Coefficients\n",
       "ENGINESIZE                    7.873147\n",
       "CYLINDERS                     8.408908\n",
       "FUELCONSUMPTION_CITY         -3.368325\n",
       "FUELCONSUMPTION_HWY           2.742498\n",
       "FUELCONSUMPTION_COMB          3.851251\n",
       "FUELCONSUMPTION_COMB_MPG     -4.082913"
      ]
     },
     "execution_count": 20,
     "metadata": {},
     "output_type": "execute_result"
    }
   ],
   "source": [
    "# print the coefficient values:\n",
    "coeff_data = pd.DataFrame(regr.coef_ , X.columns , columns=['Coefficients'])\n",
    "coeff_data\n"
   ]
  },
  {
   "cell_type": "code",
   "execution_count": 21,
   "id": "b69adcc4",
   "metadata": {},
   "outputs": [],
   "source": [
    "#Now let’s do prediction of data:\n",
    "Y_pred = regr.predict(test_x)"
   ]
  },
  {
   "cell_type": "code",
   "execution_count": 22,
   "id": "15d5c8b0",
   "metadata": {},
   "outputs": [
    {
     "name": "stdout",
     "output_type": "stream",
     "text": [
      "R² : 0.9362912548588908\n"
     ]
    }
   ],
   "source": [
    "# Check accuracy:\n",
    "from sklearn.metrics import r2_score\n",
    "R = r2_score(test_y , Y_pred)\n",
    "print (\"R² :\",R)"
   ]
  },
  {
   "cell_type": "code",
   "execution_count": 47,
   "id": "408baffa",
   "metadata": {},
   "outputs": [],
   "source": [
    "#Polynomial regression"
   ]
  },
  {
   "cell_type": "code",
   "execution_count": 54,
   "id": "f6d67e30",
   "metadata": {},
   "outputs": [
    {
     "data": {
      "text/plain": [
       "<matplotlib.collections.PathCollection at 0x28706a03310>"
      ]
     },
     "execution_count": 54,
     "metadata": {},
     "output_type": "execute_result"
    },
    {
     "data": {
      "image/png": "[encoded data removed]",
      "text/plain": [
       "<Figure size 432x288 with 1 Axes>"
      ]
     },
     "metadata": {
      "needs_background": "light"
     },
     "output_type": "display_data"
    }
   ],
   "source": [
    "# Generate datapoints:\n",
    "x = np.arange(-5,5,0.1)\n",
    "y_noise = 20 * np.random.normal(size = len(x))\n",
    "y = 1*(x**3) + 1*(x**2) + 1*x + 3+y_noise\n",
    "plt.scatter(x,y)"
   ]
  },
  {
   "cell_type": "code",
   "execution_count": 60,
   "id": "9ef9c010",
   "metadata": {},
   "outputs": [],
   "source": [
    "# Make polynomial data:\n",
    "x1 = x\n",
    "x2 = np.power(x1,2)\n",
    "x3 = np.power(x1,3)\n",
    "n = len(x1)"
   ]
  },
  {
   "cell_type": "code",
   "execution_count": 35,
   "id": "d4d6a082",
   "metadata": {},
   "outputs": [],
   "source": [
    "# Reshaping data:\n",
    "x1_new = np.reshape(x1,(n,1))\n",
    "x2_new = np.reshape(x2,(n,1))\n",
    "x3_new = np.reshape(x3,(n,1))\n",
    "\n",
    "#Co-efficient of beta-0 = 1 \n",
    "x_bias=np.ones((n,1))"
   ]
  },
  {
   "cell_type": "code",
   "execution_count": 63,
   "id": "26d46552-bec3-4806-aa6e-617ee63bfcb3",
   "metadata": {},
   "outputs": [],
   "source": [
    "# Form the complete x matrix:\n",
    "x_new = np.append(x_bias,x1_new,axis=1)\n",
    "x_new = np.append(x_new,x2_new,axis=1)\n",
    "x_new = np.append(x_new,x3_new,axis=1)\n",
    "\n",
    "# Finding transpose:\n",
    "x_new_transpose = np.transpose(x_new)"
   ]
  },
  {
   "cell_type": "code",
   "execution_count": 64,
   "id": "84586571-c88f-4a77-8b19-70ec04639c3a",
   "metadata": {},
   "outputs": [],
   "source": [
    "# Finding dot product of original and transposed matrix :\n",
    "x_new_transpose_dot_x_new = x_new_transpose.dot(x_new)\n",
    "\n",
    "# Finding Inverse:\n",
    "temp_1 = np.linalg.inv(x_new_transpose_dot_x_new)# Finding the dot product of transposed x and y :\n",
    "temp_2 = x_new_transpose.dot(y)\n",
    "\n",
    "# Finding coefficients:\n",
    "theta = temp_1.dot(temp_2)\n",
    "theta\n",
    "# Store coefficient values in different variables:\n",
    "beta_0 = theta[0]\n",
    "beta_1 = theta[1]\n",
    "beta_2 = theta[2]\n",
    "beta_3 = theta[3]"
   ]
  },
  {
   "cell_type": "code",
   "execution_count": 65,
   "id": "eb382ce5-daae-413d-9db1-5d5e84314ee0",
   "metadata": {},
   "outputs": [
    {
     "data": {
      "image/png": "[encoded data removed]",
      "text/plain": [
       "<Figure size 432x288 with 1 Axes>"
      ]
     },
     "metadata": {
      "needs_background": "light"
     },
     "output_type": "display_data"
    }
   ],
   "source": [
    "# Plot the polynomial curve:\n",
    "plt.scatter(x,y)\n",
    "plt.plot(x,beta_0 + beta_1*x1 + beta_2*x2 + beta_3*x3,c=\"red\")\n",
    "# Prediction function:\n",
    "def prediction(x1,x2,x3,beta_0,beta_1,beta_2,beta_3):\n",
    "    y_pred = beta_0 + beta_1*x1 + beta_2*x2 + beta_3*x3\n",
    "    return y_pred"
   ]
  },
  {
   "cell_type": "code",
   "execution_count": 66,
   "id": "d9acc2d5-7961-4e73-ab84-3e784e26c447",
   "metadata": {},
   "outputs": [],
   "source": [
    "# Making predictions:\n",
    "pred = prediction(x1,x2,x3,beta_0,beta_1,beta_2,beta_3)\n",
    " \n",
    "# Calculate accuracy of model:\n",
    "def err(y_pred,y):\n",
    "    var = (y - y_pred)\n",
    "    var = var*var\n",
    "    n = len(var)\n",
    "    MSE = var.sum()\n",
    "    MSE = MSE/n\n",
    "    \n",
    "    return MSE"
   ]
  },
  {
   "cell_type": "code",
   "execution_count": 67,
   "id": "b08b4d4b-28b5-494d-b75b-211ed1243126",
   "metadata": {},
   "outputs": [
    {
     "data": {
      "text/plain": [
       "596.2975414638992"
      ]
     },
     "execution_count": 67,
     "metadata": {},
     "output_type": "execute_result"
    }
   ],
   "source": [
    "# Calculating the error:\n",
    "error = err(pred,y)\n",
    "error"
   ]
  },
  {
   "cell_type": "code",
   "execution_count": 42,
   "id": "2fe1fd95-4bb7-46ad-b5eb-d81159930f37",
   "metadata": {},
   "outputs": [],
   "source": [
    "#Exponential Regression"
   ]
  },
  {
   "cell_type": "code",
   "execution_count": 43,
   "id": "be381176-baf9-49dd-9cd1-b8e68298ec1a",
   "metadata": {},
   "outputs": [],
   "source": [
    "from scipy.optimize import curve_fit"
   ]
  },
  {
   "cell_type": "code",
   "execution_count": 44,
   "id": "6285f9f5-d6e3-494b-8a96-8e65b464dbe9",
   "metadata": {},
   "outputs": [],
   "source": [
    "# Dataset values :\n",
    "day = np.arange(0,8)\n",
    "weight = np.array([251,209,157,129,103,81,66,49])"
   ]
  },
  {
   "cell_type": "code",
   "execution_count": 49,
   "id": "8ea3c8bd-c49d-417c-957d-1d9bae0f3743",
   "metadata": {},
   "outputs": [],
   "source": [
    "# Exponential Function :\n",
    "def expo_func(x, a, b):\n",
    "    return a * b ** x"
   ]
  },
  {
   "cell_type": "code",
   "execution_count": 51,
   "id": "c06e8787-f97d-4b34-9257-9258330a1a7c",
   "metadata": {},
   "outputs": [],
   "source": [
    "#popt :Optimal values for the parameters\n",
    "#pcov :The estimated covariance of popt\n",
    "popt, pcov = curve_fit(expo_func, day, weight)\n",
    "weight_pred = expo_func(day,popt[0],popt[1])"
   ]
  },
  {
   "cell_type": "code",
   "execution_count": 52,
   "id": "c50f8a0b-15aa-403f-addd-6b815439204d",
   "metadata": {},
   "outputs": [
    {
     "data": {
      "image/png": "[encoded data removed]",
      "text/plain": [
       "<Figure size 432x288 with 1 Axes>"
      ]
     },
     "metadata": {
      "needs_background": "light"
     },
     "output_type": "display_data"
    }
   ],
   "source": [
    "# Plotting the data\n",
    "plt.plot(day, weight_pred, 'r-')\n",
    "plt.scatter(day,weight,label='Day vs Weight')\n",
    "plt.title(\"Day vs Weight a*b^x\")\n",
    "plt.xlabel('Day')\n",
    "plt.ylabel('Weight')\n",
    "plt.legend()\n",
    "plt.show()"
   ]
  },
  {
   "cell_type": "code",
   "execution_count": 53,
   "id": "f0251e3c-a187-49e7-8ba5-0c6e68b4a00b",
   "metadata": {},
   "outputs": [
    {
     "name": "stdout",
     "output_type": "stream",
     "text": [
      "The equation of regression line is y=254.0486*0.7964^x\n"
     ]
    }
   ],
   "source": [
    "# Equation\n",
    "a=popt[0].round(4)\n",
    "b=popt[1].round(4)\n",
    "print(f'The equation of regression line is y={a}*{b}^x')"
   ]
  },
  {
   "cell_type": "code",
   "execution_count": null,
   "id": "795d3fa4-51b3-4959-a0d3-4fe5c226e943",
   "metadata": {},
   "outputs": [],
   "source": []
  }
 ],
 "metadata": {
  "kernelspec": {
   "display_name": "Python 3",
   "language": "python",
   "name": "python3"
  },
  "language_info": {
   "codemirror_mode": {
    "name": "ipython",
    "version": 3
   },
   "file_extension": ".py",
   "mimetype": "text/x-python",
   "name": "python",
   "nbconvert_exporter": "python",
   "pygments_lexer": "ipython3",
   "version": "3.9.7"
  }
 },
 "nbformat": 4,
 "nbformat_minor": 5
}
